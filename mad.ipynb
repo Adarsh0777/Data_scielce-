{
 "cells": [
  {
   "cell_type": "code",
   "execution_count": 58,
   "id": "96139ac4-5035-4260-ba4f-c8eee3d89a6a",
   "metadata": {},
   "outputs": [],
   "source": [
    "import numpy as np\n",
    "import pandas as pd\n",
    "import matplotlib.pyplot as plt \n",
    "import seaborn as sns"
   ]
  },
  {
   "cell_type": "code",
   "execution_count": 59,
   "id": "08cae3ba-c11f-4784-9235-e7f3e4d777e6",
   "metadata": {},
   "outputs": [],
   "source": [
    "sec_a = np.array([78,85,70,72,65,80])\n",
    "sec_b = np.array([50,90,47,98,80,54])\n",
    "no = np.array([1,2,3,4,5,6])"
   ]
  },
  {
   "cell_type": "code",
   "execution_count": 60,
   "id": "133b171e-161f-4e41-bc34-fac7c52a4c5d",
   "metadata": {},
   "outputs": [
    {
     "data": {
      "text/plain": [
       "75.0"
      ]
     },
     "execution_count": 60,
     "metadata": {},
     "output_type": "execute_result"
    }
   ],
   "source": [
    "meana = np.mean(sec_a)\n",
    "mean"
   ]
  },
  {
   "cell_type": "code",
   "execution_count": 61,
   "id": "143d7a29-a28a-4a17-98d1-027b83f124f2",
   "metadata": {},
   "outputs": [
    {
     "data": {
      "text/plain": [
       "(6.0, 19.5)"
      ]
     },
     "execution_count": 61,
     "metadata": {},
     "output_type": "execute_result"
    }
   ],
   "source": [
    "mad_a=np.sum(np.abs(sec_a-mean))/len(sec_a)\n",
    "mad_b=np.sum(np.abs(sec_b-mean))/len(sec_b)\n",
    "mad_a,mad_b"
   ]
  },
  {
   "cell_type": "code",
   "execution_count": 71,
   "id": "39da70af-bb1a-449c-a3c4-cf4c24d815f1",
   "metadata": {},
   "outputs": [
    {
     "data": {
      "text/plain": [
       "(6.683312551921141, 20.284778091520305)"
      ]
     },
     "execution_count": 71,
     "metadata": {},
     "output_type": "execute_result"
    }
   ],
   "source": [
    "np.std(sec_a),np.std(sec_b)"
   ]
  },
  {
   "cell_type": "code",
   "execution_count": 73,
   "id": "7f85b791-7444-4c04-a426-1c50346049b0",
   "metadata": {},
   "outputs": [
    {
     "data": {
      "text/plain": [
       "(44.666666666666664, 411.47222222222223)"
      ]
     },
     "execution_count": 73,
     "metadata": {},
     "output_type": "execute_result"
    }
   ],
   "source": [
    "np.var(sec_a),np.var(sec_b)"
   ]
  },
  {
   "cell_type": "code",
   "execution_count": 62,
   "id": "042ec82f-8352-45e8-a95a-5bc6b9bf7de6",
   "metadata": {},
   "outputs": [
    {
     "data": {
      "image/png": "[encoded data removed]",
      "text/plain": [
       "<Figure size 1000x300 with 1 Axes>"
      ]
     },
     "metadata": {},
     "output_type": "display_data"
    }
   ],
   "source": [
    "plt.figure(figsize=(10,3))\n",
    "plt.scatter(sec_a,no,label=\"sec_a\",color=\"green\")\n",
    "plt.scatter(sec_b,no,label=\"sec_b\",color=\"red\")\n",
    "plt.plot([75,75,75,75,75,75],no,color=\"yellow\",label=\"mean\")\n",
    "plt.legend()\n",
    "plt.show()"
   ]
  },
  {
   "cell_type": "code",
   "execution_count": null,
   "id": "69792c87-7b23-4add-b0d5-b60e32c15e67",
   "metadata": {},
   "outputs": [],
   "source": []
  }
 ],
 "metadata": {
  "kernelspec": {
   "display_name": "Python [conda env:base] *",
   "language": "python",
   "name": "conda-base-py"
  },
  "language_info": {
   "codemirror_mode": {
    "name": "ipython",
    "version": 3
   },
   "file_extension": ".py",
   "mimetype": "text/x-python",
   "name": "python",
   "nbconvert_exporter": "python",
   "pygments_lexer": "ipython3",
   "version": "3.12.7"
  }
 },
 "nbformat": 4,
 "nbformat_minor": 5
}
