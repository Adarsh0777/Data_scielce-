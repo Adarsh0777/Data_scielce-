{
 "cells": [
  {
   "cell_type": "code",
   "execution_count": 2,
   "id": "980076d9-75b5-4428-bbe2-0e784d655817",
   "metadata": {},
   "outputs": [],
   "source": [
    "import pandas as pd \n",
    "import seaborn as sns\n",
    "import matplotlib.pyplot as plt\n",
    "from sklearn.impute import SimpleImputer"
   ]
  },
  {
   "cell_type": "code",
   "execution_count": 4,
   "id": "98b3c784-7383-46c9-a255-0f9476e2c5c8",
   "metadata": {},
   "outputs": [
    {
     "name": "stdout",
     "output_type": "stream",
     "text": [
      "<class 'pandas.core.frame.DataFrame'>\n",
      "RangeIndex: 235692 entries, 0 to 235691\n",
      "Data columns (total 17 columns):\n",
      " #   Column                                             Non-Null Count   Dtype  \n",
      "---  ------                                             --------------   -----  \n",
      " 0   VIN (1-10)                                         235682 non-null  object \n",
      " 1   County                                             235689 non-null  object \n",
      " 2   City                                               235689 non-null  object \n",
      " 3   State                                              235692 non-null  object \n",
      " 4   Postal Code                                        235674 non-null  float64\n",
      " 5   Model Year                                         235681 non-null  float64\n",
      " 6   Make                                               235676 non-null  object \n",
      " 7   Model                                              235692 non-null  object \n",
      " 8   Electric Vehicle Type                              235692 non-null  object \n",
      " 9   Clean Alternative Fuel Vehicle (CAFV) Eligibility  235692 non-null  object \n",
      " 10  Electric Range                                     235653 non-null  float64\n",
      " 11  Base MSRP                                          235656 non-null  float64\n",
      " 12  Legislative District                               235198 non-null  float64\n",
      " 13  DOL Vehicle ID                                     235692 non-null  int64  \n",
      " 14  Vehicle Location                                   235682 non-null  object \n",
      " 15  Electric Utility                                   235689 non-null  object \n",
      " 16  2020 Census Tract                                  235689 non-null  float64\n",
      "dtypes: float64(6), int64(1), object(10)\n",
      "memory usage: 30.6+ MB\n"
     ]
    }
   ],
   "source": [
    "dataset = pd.read_csv(\"Electric_Vehicle_Population_Data.csv\")\n",
    "dataset.info()"
   ]
  },
  {
   "cell_type": "code",
   "execution_count": 10,
   "id": "2f309cf4-05d2-4600-b4f9-f4ecbe1a87a6",
   "metadata": {},
   "outputs": [
    {
     "data": {
      "text/plain": [
       "Index(['Postal Code', 'Model Year', 'Electric Range', 'Base MSRP',\n",
       "       'Legislative District', '2020 Census Tract'],\n",
       "      dtype='object')"
      ]
     },
     "execution_count": 10,
     "metadata": {},
     "output_type": "execute_result"
    }
   ],
   "source": [
    "dataset.select_dtypes(include=\"float64\").columns"
   ]
  },
  {
   "cell_type": "code",
   "execution_count": 14,
   "id": "055c623b-c12e-4879-bcf5-ea0823cf439d",
   "metadata": {},
   "outputs": [],
   "source": [
    "si=SimpleImputer(strategy=\"mean\")\n",
    "ar=si.fit_transform(dataset[['Postal Code', 'Model Year', 'Electric Range', 'Base MSRP',\n",
    "       'Legislative District', '2020 Census Tract']])"
   ]
  },
  {
   "cell_type": "code",
   "execution_count": 22,
   "id": "6f31e0a8-f4d0-4d6a-b3e9-7c857539f72d",
   "metadata": {},
   "outputs": [],
   "source": [
    "new_data=pd.DataFrame(ar,columns=dataset.select_dtypes(include=\"float64\").columns)"
   ]
  },
  {
   "cell_type": "code",
   "execution_count": 24,
   "id": "7b861c20-b9e3-4e78-9ce4-a5230b674615",
   "metadata": {},
   "outputs": [
    {
     "data": {
      "text/plain": [
       "Postal Code             0\n",
       "Model Year              0\n",
       "Electric Range          0\n",
       "Base MSRP               0\n",
       "Legislative District    0\n",
       "2020 Census Tract       0\n",
       "dtype: int64"
      ]
     },
     "execution_count": 24,
     "metadata": {},
     "output_type": "execute_result"
    }
   ],
   "source": [
    "new_data.isnull().sum()"
   ]
  },
  {
   "cell_type": "code",
   "execution_count": 26,
   "id": "4a0e58ef-d4e0-4925-bb12-e81f5cb42e65",
   "metadata": {},
   "outputs": [
    {
     "data": {
      "text/html": [
       "<div>\n",
       "<style scoped>\n",
       "    .dataframe tbody tr th:only-of-type {\n",
       "        vertical-align: middle;\n",
       "    }\n",
       "\n",
       "    .dataframe tbody tr th {\n",
       "        vertical-align: top;\n",
       "    }\n",
       "\n",
       "    .dataframe thead th {\n",
       "        text-align: right;\n",
       "    }\n",
       "</style>\n",
       "<table border=\"1\" class=\"dataframe\">\n",
       "  <thead>\n",
       "    <tr style=\"text-align: right;\">\n",
       "      <th></th>\n",
       "      <th>Postal Code</th>\n",
       "      <th>Model Year</th>\n",
       "      <th>Electric Range</th>\n",
       "      <th>Base MSRP</th>\n",
       "      <th>Legislative District</th>\n",
       "      <th>2020 Census Tract</th>\n",
       "    </tr>\n",
       "  </thead>\n",
       "  <tbody>\n",
       "    <tr>\n",
       "      <th>0</th>\n",
       "      <td>98178.0</td>\n",
       "      <td>2019.0</td>\n",
       "      <td>220.0</td>\n",
       "      <td>0.0</td>\n",
       "      <td>37.0</td>\n",
       "      <td>5.303301e+10</td>\n",
       "    </tr>\n",
       "    <tr>\n",
       "      <th>1</th>\n",
       "      <td>98370.0</td>\n",
       "      <td>2020.0</td>\n",
       "      <td>291.0</td>\n",
       "      <td>0.0</td>\n",
       "      <td>23.0</td>\n",
       "      <td>5.303509e+10</td>\n",
       "    </tr>\n",
       "    <tr>\n",
       "      <th>2</th>\n",
       "      <td>98359.0</td>\n",
       "      <td>2023.0</td>\n",
       "      <td>0.0</td>\n",
       "      <td>0.0</td>\n",
       "      <td>26.0</td>\n",
       "      <td>5.303509e+10</td>\n",
       "    </tr>\n",
       "    <tr>\n",
       "      <th>3</th>\n",
       "      <td>98380.0</td>\n",
       "      <td>2021.0</td>\n",
       "      <td>30.0</td>\n",
       "      <td>0.0</td>\n",
       "      <td>35.0</td>\n",
       "      <td>5.303509e+10</td>\n",
       "    </tr>\n",
       "    <tr>\n",
       "      <th>4</th>\n",
       "      <td>98576.0</td>\n",
       "      <td>2023.0</td>\n",
       "      <td>42.0</td>\n",
       "      <td>0.0</td>\n",
       "      <td>2.0</td>\n",
       "      <td>5.306701e+10</td>\n",
       "    </tr>\n",
       "    <tr>\n",
       "      <th>...</th>\n",
       "      <td>...</td>\n",
       "      <td>...</td>\n",
       "      <td>...</td>\n",
       "      <td>...</td>\n",
       "      <td>...</td>\n",
       "      <td>...</td>\n",
       "    </tr>\n",
       "    <tr>\n",
       "      <th>235687</th>\n",
       "      <td>98407.0</td>\n",
       "      <td>2024.0</td>\n",
       "      <td>21.0</td>\n",
       "      <td>0.0</td>\n",
       "      <td>27.0</td>\n",
       "      <td>5.305306e+10</td>\n",
       "    </tr>\n",
       "    <tr>\n",
       "      <th>235688</th>\n",
       "      <td>98292.0</td>\n",
       "      <td>2018.0</td>\n",
       "      <td>249.0</td>\n",
       "      <td>0.0</td>\n",
       "      <td>10.0</td>\n",
       "      <td>5.306105e+10</td>\n",
       "    </tr>\n",
       "    <tr>\n",
       "      <th>235689</th>\n",
       "      <td>98052.0</td>\n",
       "      <td>2015.0</td>\n",
       "      <td>19.0</td>\n",
       "      <td>0.0</td>\n",
       "      <td>48.0</td>\n",
       "      <td>5.303303e+10</td>\n",
       "    </tr>\n",
       "    <tr>\n",
       "      <th>235690</th>\n",
       "      <td>98258.0</td>\n",
       "      <td>2023.0</td>\n",
       "      <td>0.0</td>\n",
       "      <td>0.0</td>\n",
       "      <td>44.0</td>\n",
       "      <td>5.306105e+10</td>\n",
       "    </tr>\n",
       "    <tr>\n",
       "      <th>235691</th>\n",
       "      <td>98027.0</td>\n",
       "      <td>2023.0</td>\n",
       "      <td>0.0</td>\n",
       "      <td>0.0</td>\n",
       "      <td>5.0</td>\n",
       "      <td>5.303303e+10</td>\n",
       "    </tr>\n",
       "  </tbody>\n",
       "</table>\n",
       "<p>235692 rows × 6 columns</p>\n",
       "</div>"
      ],
      "text/plain": [
       "        Postal Code  Model Year  Electric Range  Base MSRP  \\\n",
       "0           98178.0      2019.0           220.0        0.0   \n",
       "1           98370.0      2020.0           291.0        0.0   \n",
       "2           98359.0      2023.0             0.0        0.0   \n",
       "3           98380.0      2021.0            30.0        0.0   \n",
       "4           98576.0      2023.0            42.0        0.0   \n",
       "...             ...         ...             ...        ...   \n",
       "235687      98407.0      2024.0            21.0        0.0   \n",
       "235688      98292.0      2018.0           249.0        0.0   \n",
       "235689      98052.0      2015.0            19.0        0.0   \n",
       "235690      98258.0      2023.0             0.0        0.0   \n",
       "235691      98027.0      2023.0             0.0        0.0   \n",
       "\n",
       "        Legislative District  2020 Census Tract  \n",
       "0                       37.0       5.303301e+10  \n",
       "1                       23.0       5.303509e+10  \n",
       "2                       26.0       5.303509e+10  \n",
       "3                       35.0       5.303509e+10  \n",
       "4                        2.0       5.306701e+10  \n",
       "...                      ...                ...  \n",
       "235687                  27.0       5.305306e+10  \n",
       "235688                  10.0       5.306105e+10  \n",
       "235689                  48.0       5.303303e+10  \n",
       "235690                  44.0       5.306105e+10  \n",
       "235691                   5.0       5.303303e+10  \n",
       "\n",
       "[235692 rows x 6 columns]"
      ]
     },
     "execution_count": 26,
     "metadata": {},
     "output_type": "execute_result"
    }
   ],
   "source": [
    "new_data"
   ]
  },
  {
   "cell_type": "code",
   "execution_count": null,
   "id": "c1424018-75be-419b-b06f-1915666f2a59",
   "metadata": {},
   "outputs": [],
   "source": []
  }
 ],
 "metadata": {
  "kernelspec": {
   "display_name": "Python [conda env:base] *",
   "language": "python",
   "name": "conda-base-py"
  },
  "language_info": {
   "codemirror_mode": {
    "name": "ipython",
    "version": 3
   },
   "file_extension": ".py",
   "mimetype": "text/x-python",
   "name": "python",
   "nbconvert_exporter": "python",
   "pygments_lexer": "ipython3",
   "version": "3.12.7"
  }
 },
 "nbformat": 4,
 "nbformat_minor": 5
}
