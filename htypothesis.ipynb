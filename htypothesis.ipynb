{
 "cells": [
  {
   "cell_type": "code",
   "execution_count": 1,
   "id": "dc084e45-f187-4890-a93f-2ac11da7f4c7",
   "metadata": {},
   "outputs": [],
   "source": [
    "import pandas as pd \n",
    "import numpy as np \n",
    "import matplotlib.pyplot as plt \n",
    "import seaborn as sns \n",
    "import scipy.stats as st"
   ]
  },
  {
   "cell_type": "code",
   "execution_count": 2,
   "id": "8713dedc-68fb-4cc7-b3ce-3f99b3a44f70",
   "metadata": {},
   "outputs": [
    {
     "data": {
      "text/plain": [
       "2.126674020167019"
      ]
     },
     "execution_count": 2,
     "metadata": {},
     "output_type": "execute_result"
    }
   ],
   "source": [
    "tt=st.t.ppf(1-0.02,38)\n",
    "tt"
   ]
  },
  {
   "cell_type": "code",
   "execution_count": 3,
   "id": "ee74df30-82a2-4b64-8ec7-c58685db3cf4",
   "metadata": {},
   "outputs": [],
   "source": [
    "xa=80\n",
    "xb=75\n",
    "ua=80\n",
    "ub=80\n",
    "sa=5\n",
    "sb=6\n",
    "n=20"
   ]
  },
  {
   "cell_type": "code",
   "execution_count": 4,
   "id": "c5192f52-ca85-4c29-969d-25a7a662da6a",
   "metadata": {},
   "outputs": [
    {
     "data": {
      "text/plain": [
       "2.862991671569341"
      ]
     },
     "execution_count": 4,
     "metadata": {},
     "output_type": "execute_result"
    }
   ],
   "source": [
    "tc=(xa-xb)/(np.sqrt((25/20)+(36/20)))\n",
    "tc"
   ]
  },
  {
   "cell_type": "code",
   "execution_count": 5,
   "id": "8c63a302-92d6-4243-b7cc-48f3489ad792",
   "metadata": {},
   "outputs": [
    {
     "name": "stdout",
     "output_type": "stream",
     "text": [
      "ha is right\n"
     ]
    }
   ],
   "source": [
    "if tt<tc:\n",
    "    print(\"ha is right\")\n",
    "else:\n",
    "    print(\"ho is right\")\n",
    "    "
   ]
  },
  {
   "cell_type": "code",
   "execution_count": null,
   "id": "3e8b5d78-b686-4b99-bc62-aec3282cf388",
   "metadata": {},
   "outputs": [],
   "source": []
  },
  {
   "cell_type": "code",
   "execution_count": 6,
   "id": "38c6bbe2-5e73-40f3-812d-a44912f8f4b2",
   "metadata": {},
   "outputs": [],
   "source": [
    "x=148\n",
    "u=150\n",
    "s=5\n",
    "n=25\n",
    "p=0.05\n",
    "df=(n-1)"
   ]
  },
  {
   "cell_type": "code",
   "execution_count": 7,
   "id": "233ae49a-f9e0-4085-8a42-fe028e2f98e6",
   "metadata": {},
   "outputs": [
    {
     "data": {
      "text/plain": [
       "-1.7108820799094282"
      ]
     },
     "execution_count": 7,
     "metadata": {},
     "output_type": "execute_result"
    }
   ],
   "source": [
    "t_table= st.t.ppf(p,df)\n",
    "t_table"
   ]
  },
  {
   "cell_type": "code",
   "execution_count": 8,
   "id": "4840c3d1-78e7-4709-a6f3-db638c41b356",
   "metadata": {},
   "outputs": [
    {
     "data": {
      "text/plain": [
       "-2.0"
      ]
     },
     "execution_count": 8,
     "metadata": {},
     "output_type": "execute_result"
    }
   ],
   "source": [
    "t_cal=(x-u)/(s/np.sqrt(n))\n",
    "t_cal"
   ]
  },
  {
   "cell_type": "code",
   "execution_count": 9,
   "id": "298d4b82-3f4a-4737-bfad-3850f27ab166",
   "metadata": {},
   "outputs": [
    {
     "name": "stdout",
     "output_type": "stream",
     "text": [
      "ha is righ\n"
     ]
    }
   ],
   "source": [
    "if t_cal<t_table:\n",
    "    print(\"ha is righ\")\n",
    "else:\n",
    "    print(\"ho is right\")"
   ]
  },
  {
   "cell_type": "code",
   "execution_count": 10,
   "id": "f37d5e29-056b-4ce0-889f-01e75f7b6362",
   "metadata": {},
   "outputs": [],
   "source": [
    "s_x = 90\n",
    "p_u = 82\n",
    "p_std = 20\n",
    "n = 81\n",
    "ap = 0.05"
   ]
  },
  {
   "cell_type": "code",
   "execution_count": 11,
   "id": "93362b5d-0358-4f24-bcd4-c351d72fcf3f",
   "metadata": {},
   "outputs": [
    {
     "data": {
      "text/plain": [
       "3.5999999999999996"
      ]
     },
     "execution_count": 11,
     "metadata": {},
     "output_type": "execute_result"
    }
   ],
   "source": [
    "z_cal = (s_x-p_u)/(p_std/np.sqrt(n))\n",
    "z_cal"
   ]
  },
  {
   "cell_type": "code",
   "execution_count": 12,
   "id": "30320627-91e1-4195-b2df-e025a53adf53",
   "metadata": {},
   "outputs": [
    {
     "data": {
      "text/plain": [
       "1.6448536269514722"
      ]
     },
     "execution_count": 12,
     "metadata": {},
     "output_type": "execute_result"
    }
   ],
   "source": [
    "z_table=st.norm.ppf(1-ap)\n",
    "z_table"
   ]
  },
  {
   "cell_type": "code",
   "execution_count": 13,
   "id": "db1fc9c6-2be3-4789-9f8e-ffc86e78d18b",
   "metadata": {},
   "outputs": [
    {
     "name": "stdout",
     "output_type": "stream",
     "text": [
      "ha is right\n"
     ]
    }
   ],
   "source": [
    "if z_cal>z_table:\n",
    "    print(\"ha is right\")\n",
    "else:\n",
    "    print(\"ha is not right\")"
   ]
  },
  {
   "cell_type": "code",
   "execution_count": 36,
   "id": "0daca7e0-c867-453f-8e35-bc47fea15aca",
   "metadata": {},
   "outputs": [],
   "source": [
    "row1 = np.array([40,45,25,10])\n",
    "row2 = np.array([35,30,20,30])"
   ]
  },
  {
   "cell_type": "code",
   "execution_count": 38,
   "id": "c14f6975-de92-42e5-958b-e50a28bf2f8e",
   "metadata": {},
   "outputs": [
    {
     "data": {
      "text/plain": [
       "array([120, 115])"
      ]
     },
     "execution_count": 38,
     "metadata": {},
     "output_type": "execute_result"
    }
   ],
   "source": [
    "sum_r1 = np.sum(row1)\n",
    "sum_r2 = np.sum(row2)\n",
    "sum_rows = np.array([sum_r1,sum_r2])\n",
    "sum_rows"
   ]
  },
  {
   "cell_type": "code",
   "execution_count": 40,
   "id": "0c706111-8875-4b8a-9f90-67159a815bea",
   "metadata": {},
   "outputs": [
    {
     "data": {
      "text/plain": [
       "array([75, 75, 45, 40])"
      ]
     },
     "execution_count": 40,
     "metadata": {},
     "output_type": "execute_result"
    }
   ],
   "source": [
    "sum_c=row1+row2\n",
    "sum_c"
   ]
  },
  {
   "cell_type": "code",
   "execution_count": 62,
   "id": "3e4e21ca-f87b-4b3d-bc79-bd21cc9725d6",
   "metadata": {},
   "outputs": [],
   "source": [
    "exp = []\n",
    "for i in sum_rows:\n",
    "    for j in sum_c:\n",
    "        value = (i*j/235)\n",
    "        exp.append(value)"
   ]
  },
  {
   "cell_type": "code",
   "execution_count": 64,
   "id": "7f0a772c-c140-473d-aca0-88fa76dbef53",
   "metadata": {},
   "outputs": [
    {
     "data": {
      "text/plain": [
       "[38.297872340425535,\n",
       " 38.297872340425535,\n",
       " 22.97872340425532,\n",
       " 20.425531914893618,\n",
       " 36.702127659574465,\n",
       " 36.702127659574465,\n",
       " 22.02127659574468,\n",
       " 19.574468085106382]"
      ]
     },
     "execution_count": 64,
     "metadata": {},
     "output_type": "execute_result"
    }
   ],
   "source": [
    "exp"
   ]
  },
  {
   "cell_type": "code",
   "execution_count": 68,
   "id": "41bb8bf5-0728-4e1a-a69f-5bc39c7b2d1a",
   "metadata": {},
   "outputs": [
    {
     "data": {
      "text/plain": [
       "array([40, 45, 25, 10, 35, 30, 20, 30])"
      ]
     },
     "execution_count": 68,
     "metadata": {},
     "output_type": "execute_result"
    }
   ],
   "source": [
    "obj = np.array([40,45,25,10,35,30,20,30])\n",
    "obj"
   ]
  },
  {
   "cell_type": "code",
   "execution_count": 80,
   "id": "0bfd4370-969f-4e08-864b-b90ffc3fe9bb",
   "metadata": {},
   "outputs": [],
   "source": [
    "chi_cal=np.sum(np.square(obj - exp)/exp)"
   ]
  },
  {
   "cell_type": "code",
   "execution_count": 78,
   "id": "b208bfbe-1fde-4b91-b048-3891ca66376f",
   "metadata": {},
   "outputs": [
    {
     "data": {
      "text/plain": [
       "7.815"
      ]
     },
     "execution_count": 78,
     "metadata": {},
     "output_type": "execute_result"
    }
   ],
   "source": [
    "chi_table = 7.815\n",
    "chi_table"
   ]
  },
  {
   "cell_type": "code",
   "execution_count": 82,
   "id": "e841d34c-b527-49ad-b8ba-91f7bf7e221d",
   "metadata": {},
   "outputs": [
    {
     "data": {
      "text/plain": [
       "13.788747987117553"
      ]
     },
     "execution_count": 82,
     "metadata": {},
     "output_type": "execute_result"
    }
   ],
   "source": [
    "chi_cal"
   ]
  },
  {
   "cell_type": "code",
   "execution_count": 88,
   "id": "6e624a59-333c-4b3a-93be-6c7bae793d8a",
   "metadata": {},
   "outputs": [
    {
     "name": "stdout",
     "output_type": "stream",
     "text": [
      "the given data are associate\n"
     ]
    }
   ],
   "source": [
    "if chi_cal>chi_table:\n",
    "    print(\"the given data are associate\")\n",
    "else:\n",
    "    print(\"the data is not associate\")\n",
    "    "
   ]
  }
 ],
 "metadata": {
  "kernelspec": {
   "display_name": "Python [conda env:base] *",
   "language": "python",
   "name": "conda-base-py"
  },
  "language_info": {
   "codemirror_mode": {
    "name": "ipython",
    "version": 3
   },
   "file_extension": ".py",
   "mimetype": "text/x-python",
   "name": "python",
   "nbconvert_exporter": "python",
   "pygments_lexer": "ipython3",
   "version": "3.12.7"
  }
 },
 "nbformat": 4,
 "nbformat_minor": 5
}
